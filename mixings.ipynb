{
 "cells": [
  {
   "cell_type": "code",
   "execution_count": 1,
   "metadata": {},
   "outputs": [],
   "source": [
    "from particles import *\n",
    "from chiral_Lagrangian import *\n",
    "from alp_chiral_Lagrangian import *\n",
    "import sympy as sp"
   ]
  },
  {
   "cell_type": "markdown",
   "metadata": {},
   "source": [
    "# SM mixings\n",
    "\n",
    "## $\\eta$-$\\eta'$ mixings\n",
    "First we fix the anomalous $m_{\\eta^0}$ term in order to ensure that there is no mixing between $\\eta$ and $\\eta'$"
   ]
  },
  {
   "cell_type": "code",
   "execution_count": 2,
   "metadata": {},
   "outputs": [],
   "source": [
    "lagM2 = sm_chi_lagrangian(2)"
   ]
  },
  {
   "cell_type": "code",
   "execution_count": 3,
   "metadata": {},
   "outputs": [],
   "source": [
    "lagM2_eta = extract_coefficient(lagM2, [eta, etap])"
   ]
  },
  {
   "cell_type": "code",
   "execution_count": 4,
   "metadata": {},
   "outputs": [
    {
     "data": {
      "text/latex": [
       "$\\displaystyle \\frac{6 m_{d} \\left(m_{\\eta^0}\\right)^{2} \\sin{\\left(\\theta_{\\eta\\eta'} \\right)} \\cos{\\left(\\theta_{\\eta\\eta'} \\right)}}{6 m_{d} + 6 m_{u}} + \\frac{m_{d} \\left(m_{\\pi^0}\\right)^{2} \\sin{\\left(2 \\theta_{\\eta\\eta'} \\right)}}{6 m_{d} + 6 m_{u}} - \\frac{2 \\sqrt{2} m_{d} \\left(m_{\\pi^0}\\right)^{2} \\cos{\\left(2 \\theta_{\\eta\\eta'} \\right)}}{6 m_{d} + 6 m_{u}} - \\frac{2 m_{s} \\left(m_{\\pi^0}\\right)^{2} \\sin{\\left(2 \\theta_{\\eta\\eta'} \\right)}}{6 m_{d} + 6 m_{u}} + \\frac{4 \\sqrt{2} m_{s} \\left(m_{\\pi^0}\\right)^{2} \\cos{\\left(2 \\theta_{\\eta\\eta'} \\right)}}{6 m_{d} + 6 m_{u}} + \\frac{6 m_{u} \\left(m_{\\eta^0}\\right)^{2} \\sin{\\left(\\theta_{\\eta\\eta'} \\right)} \\cos{\\left(\\theta_{\\eta\\eta'} \\right)}}{6 m_{d} + 6 m_{u}} + \\frac{m_{u} \\left(m_{\\pi^0}\\right)^{2} \\sin{\\left(2 \\theta_{\\eta\\eta'} \\right)}}{6 m_{d} + 6 m_{u}} - \\frac{2 \\sqrt{2} m_{u} \\left(m_{\\pi^0}\\right)^{2} \\cos{\\left(2 \\theta_{\\eta\\eta'} \\right)}}{6 m_{d} + 6 m_{u}}$"
      ],
      "text/plain": [
       "6*m_d*m_{\\eta^0}**2*sin(\\theta_{\\eta\\eta'})*cos(\\theta_{\\eta\\eta'})/(6*m_d + 6*m_u) + m_d*m_{\\pi^0}**2*sin(2*\\theta_{\\eta\\eta'})/(6*m_d + 6*m_u) - 2*sqrt(2)*m_d*m_{\\pi^0}**2*cos(2*\\theta_{\\eta\\eta'})/(6*m_d + 6*m_u) - 2*m_s*m_{\\pi^0}**2*sin(2*\\theta_{\\eta\\eta'})/(6*m_d + 6*m_u) + 4*sqrt(2)*m_s*m_{\\pi^0}**2*cos(2*\\theta_{\\eta\\eta'})/(6*m_d + 6*m_u) + 6*m_u*m_{\\eta^0}**2*sin(\\theta_{\\eta\\eta'})*cos(\\theta_{\\eta\\eta'})/(6*m_d + 6*m_u) + m_u*m_{\\pi^0}**2*sin(2*\\theta_{\\eta\\eta'})/(6*m_d + 6*m_u) - 2*sqrt(2)*m_u*m_{\\pi^0}**2*cos(2*\\theta_{\\eta\\eta'})/(6*m_d + 6*m_u)"
      ]
     },
     "execution_count": 4,
     "metadata": {},
     "output_type": "execute_result"
    }
   ],
   "source": [
    "lagM2_eta[eta*etap]"
   ]
  },
  {
   "cell_type": "code",
   "execution_count": 5,
   "metadata": {},
   "outputs": [],
   "source": [
    "sol_meta0 = sp.solve(lagM2_eta[eta*etap], meta0**2)[0]"
   ]
  },
  {
   "cell_type": "markdown",
   "metadata": {},
   "source": [
    "Obtaining the following value for $m_{\\eta_0}^2$"
   ]
  },
  {
   "cell_type": "code",
   "execution_count": 6,
   "metadata": {},
   "outputs": [
    {
     "data": {
      "text/latex": [
       "$\\displaystyle \\frac{\\left(m_{\\pi^0}\\right)^{2} \\left(- m_{d} \\sin{\\left(2 \\theta_{\\eta\\eta'} \\right)} + 2 \\sqrt{2} m_{d} \\cos{\\left(2 \\theta_{\\eta\\eta'} \\right)} + 2 m_{s} \\sin{\\left(2 \\theta_{\\eta\\eta'} \\right)} - 4 \\sqrt{2} m_{s} \\cos{\\left(2 \\theta_{\\eta\\eta'} \\right)} - m_{u} \\sin{\\left(2 \\theta_{\\eta\\eta'} \\right)} + 2 \\sqrt{2} m_{u} \\cos{\\left(2 \\theta_{\\eta\\eta'} \\right)}\\right)}{6 \\left(m_{d} + m_{u}\\right) \\sin{\\left(\\theta_{\\eta\\eta'} \\right)} \\cos{\\left(\\theta_{\\eta\\eta'} \\right)}}$"
      ],
      "text/plain": [
       "m_{\\pi^0}**2*(-m_d*sin(2*\\theta_{\\eta\\eta'}) + 2*sqrt(2)*m_d*cos(2*\\theta_{\\eta\\eta'}) + 2*m_s*sin(2*\\theta_{\\eta\\eta'}) - 4*sqrt(2)*m_s*cos(2*\\theta_{\\eta\\eta'}) - m_u*sin(2*\\theta_{\\eta\\eta'}) + 2*sqrt(2)*m_u*cos(2*\\theta_{\\eta\\eta'}))/(6*(m_d + m_u)*sin(\\theta_{\\eta\\eta'})*cos(\\theta_{\\eta\\eta'}))"
      ]
     },
     "execution_count": 6,
     "metadata": {},
     "output_type": "execute_result"
    }
   ],
   "source": [
    "sol_meta0"
   ]
  },
  {
   "cell_type": "markdown",
   "metadata": {},
   "source": [
    "And for the squared masses of $\\eta$ and $\\eta'$"
   ]
  },
  {
   "cell_type": "code",
   "execution_count": 7,
   "metadata": {},
   "outputs": [
    {
     "data": {
      "text/latex": [
       "$\\displaystyle \\frac{\\left(m_{\\pi^0}\\right)^{2} \\left(\\sqrt{2} \\delta_{I} m_{s} \\tan{\\left(\\theta_{\\eta\\eta'} \\right)} + 2 \\delta_{I} m_{s} - \\sqrt{2} m_{d} \\tan{\\left(\\theta_{\\eta\\eta'} \\right)} + m_{d} + \\sqrt{2} m_{s} \\tan{\\left(\\theta_{\\eta\\eta'} \\right)} + 2 m_{s}\\right)}{3 m_{d}}$"
      ],
      "text/plain": [
       "m_{\\pi^0}**2*(sqrt(2)*\\delta_I*m_s*tan(\\theta_{\\eta\\eta'}) + 2*\\delta_I*m_s - sqrt(2)*m_d*tan(\\theta_{\\eta\\eta'}) + m_d + sqrt(2)*m_s*tan(\\theta_{\\eta\\eta'}) + 2*m_s)/(3*m_d)"
      ]
     },
     "execution_count": 7,
     "metadata": {},
     "output_type": "execute_result"
    }
   ],
   "source": [
    "dI = sp.Symbol(r'\\delta_I', real=True)\n",
    "m_eta2 = sp.simplify(-2*(extract_coefficient(lagM2, [eta, eta])[eta*eta]).subs({meta0**2: sol_meta0}).subs({mu: md*(1-dI)/(1+dI)}))\n",
    "m_eta2"
   ]
  },
  {
   "cell_type": "code",
   "execution_count": 8,
   "metadata": {},
   "outputs": [
    {
     "data": {
      "text/latex": [
       "$\\displaystyle \\frac{\\left(m_{\\pi^0}\\right)^{2} \\left(2 \\delta_{I} m_{s} - \\frac{\\sqrt{2} \\delta_{I} m_{s}}{\\tan{\\left(\\theta_{\\eta\\eta'} \\right)}} + m_{d} + \\frac{\\sqrt{2} m_{d}}{\\tan{\\left(\\theta_{\\eta\\eta'} \\right)}} + 2 m_{s} - \\frac{\\sqrt{2} m_{s}}{\\tan{\\left(\\theta_{\\eta\\eta'} \\right)}}\\right)}{3 m_{d}}$"
      ],
      "text/plain": [
       "m_{\\pi^0}**2*(2*\\delta_I*m_s - sqrt(2)*\\delta_I*m_s/tan(\\theta_{\\eta\\eta'}) + m_d + sqrt(2)*m_d/tan(\\theta_{\\eta\\eta'}) + 2*m_s - sqrt(2)*m_s/tan(\\theta_{\\eta\\eta'}))/(3*m_d)"
      ]
     },
     "execution_count": 8,
     "metadata": {},
     "output_type": "execute_result"
    }
   ],
   "source": [
    "m_etap2 = sp.simplify(-2*(extract_coefficient(lagM2, [etap, etap])[etap*etap]).subs({meta0**2: sol_meta0}).subs({mu: md*(1-dI)/(1+dI)}))\n",
    "m_etap2"
   ]
  },
  {
   "cell_type": "markdown",
   "metadata": {},
   "source": [
    "We can find a relation between $m_{\\pi^0}^2$, $m_\\eta^2$ and $m_{\\eta'}^2$ by eliminating the quark masses:"
   ]
  },
  {
   "cell_type": "code",
   "execution_count": 9,
   "metadata": {},
   "outputs": [],
   "source": [
    "meta = sp.Symbol(r'm_\\eta', real=True)\n",
    "sol_ms_meta = sp.solve(m_eta2-meta**2, ms)[0]\n",
    "\n",
    "metap = sp.Symbol(r\"m_{\\eta'}\", real=True)\n",
    "sol_ms_metap = sp.solve(m_etap2-metap**2, ms)[0]"
   ]
  },
  {
   "cell_type": "code",
   "execution_count": 10,
   "metadata": {},
   "outputs": [
    {
     "data": {
      "text/latex": [
       "$\\displaystyle \\frac{2 m_{\\eta}^{2} \\tan{\\left(\\theta_{\\eta\\eta'} \\right)} - \\sqrt{2} m_{\\eta}^{2} + \\frac{\\sqrt{2} \\left(m_{\\pi^0}\\right)^{2}}{\\cos^{2}{\\left(\\theta_{\\eta\\eta'} \\right)}}}{\\left(\\sqrt{2} \\tan{\\left(\\theta_{\\eta\\eta'} \\right)} + 2\\right) \\tan{\\left(\\theta_{\\eta\\eta'} \\right)}}$"
      ],
      "text/plain": [
       "(2*m_\\eta**2*tan(\\theta_{\\eta\\eta'}) - sqrt(2)*m_\\eta**2 + sqrt(2)*m_{\\pi^0}**2/cos(\\theta_{\\eta\\eta'})**2)/((sqrt(2)*tan(\\theta_{\\eta\\eta'}) + 2)*tan(\\theta_{\\eta\\eta'}))"
      ]
     },
     "execution_count": 10,
     "metadata": {},
     "output_type": "execute_result"
    }
   ],
   "source": [
    "sp.simplify(sp.expand(m_etap2.subs({ms: sol_ms_meta})))"
   ]
  },
  {
   "cell_type": "markdown",
   "metadata": {},
   "source": [
    "which in the approximation $\\sin\\theta_{\\eta\\eta'} \\approx -1/3$ becomes"
   ]
  },
  {
   "cell_type": "code",
   "execution_count": 11,
   "metadata": {},
   "outputs": [
    {
     "data": {
      "text/latex": [
       "$\\displaystyle 4 m_{\\eta}^{2} - 3 \\left(m_{\\pi^0}\\right)^{2}$"
      ],
      "text/plain": [
       "4*m_\\eta**2 - 3*m_{\\pi^0}**2"
      ]
     },
     "execution_count": 11,
     "metadata": {},
     "output_type": "execute_result"
    }
   ],
   "source": [
    "sp.expand(sp.simplify(sp.expand(m_etap2.subs({ms: sol_ms_meta}))).subs({sp.cos(th_eta): sp.sqrt(2)*sp.Rational(2,3), sp.tan(th_eta): -sp.sqrt(2)*sp.Rational(1,4) }))"
   ]
  },
  {
   "cell_type": "code",
   "execution_count": 12,
   "metadata": {},
   "outputs": [
    {
     "data": {
      "text/latex": [
       "$\\displaystyle \\frac{\\delta_{I} m_{s} \\left(m_{\\pi^0}\\right)^{2}}{2 m_{d}} + \\frac{\\left(m_{\\pi^0}\\right)^{2}}{2} + \\frac{m_{s} \\left(m_{\\pi^0}\\right)^{2}}{2 m_{d}}$"
      ],
      "text/plain": [
       "\\delta_I*m_s*m_{\\pi^0}**2/(2*m_d) + m_{\\pi^0}**2/2 + m_s*m_{\\pi^0}**2/(2*m_d)"
      ]
     },
     "execution_count": 12,
     "metadata": {},
     "output_type": "execute_result"
    }
   ],
   "source": [
    "sp.expand(m_eta2.subs({sp.cos(th_eta): sp.sqrt(2)*sp.Rational(2,3), sp.tan(th_eta): -sp.sqrt(2)*sp.Rational(1,4) }))"
   ]
  },
  {
   "cell_type": "code",
   "execution_count": 13,
   "metadata": {},
   "outputs": [
    {
     "data": {
      "text/latex": [
       "$\\displaystyle \\frac{2 \\delta_{I} m_{s} \\left(m_{\\pi^0}\\right)^{2}}{m_{d}} - \\left(m_{\\pi^0}\\right)^{2} + \\frac{2 m_{s} \\left(m_{\\pi^0}\\right)^{2}}{m_{d}}$"
      ],
      "text/plain": [
       "2*\\delta_I*m_s*m_{\\pi^0}**2/m_d - m_{\\pi^0}**2 + 2*m_s*m_{\\pi^0}**2/m_d"
      ]
     },
     "execution_count": 13,
     "metadata": {},
     "output_type": "execute_result"
    }
   ],
   "source": [
    "sp.expand(m_etap2.subs({sp.cos(th_eta): sp.sqrt(2)*sp.Rational(2,3), sp.tan(th_eta): -sp.sqrt(2)*sp.Rational(1,4) }))"
   ]
  },
  {
   "cell_type": "code",
   "execution_count": 14,
   "metadata": {},
   "outputs": [
    {
     "data": {
      "text/latex": [
       "$\\displaystyle \\frac{m_{\\eta'}^{2}}{4} + \\frac{3 \\left(m_{\\pi^0}\\right)^{2}}{4}$"
      ],
      "text/plain": [
       "m_{\\eta'}**2/4 + 3*m_{\\pi^0}**2/4"
      ]
     },
     "execution_count": 14,
     "metadata": {},
     "output_type": "execute_result"
    }
   ],
   "source": [
    "sp.expand(sp.simplify(sp.expand(m_eta2.subs({ms: sol_ms_metap}))).subs({sp.cos(th_eta): sp.sqrt(2)*sp.Rational(2,3), sp.tan(th_eta): -sp.sqrt(2)*sp.Rational(1,4) }))"
   ]
  },
  {
   "cell_type": "markdown",
   "metadata": {},
   "source": []
  },
  {
   "cell_type": "markdown",
   "metadata": {},
   "source": [
    "## $\\pi^0-\\eta$ and $\\pi^0-\\eta'$ mixing"
   ]
  },
  {
   "cell_type": "code",
   "execution_count": 15,
   "metadata": {},
   "outputs": [],
   "source": [
    "lag_etapi = sp.expand(sp.simplify(extract_coefficient(lagM2, [pi0, eta])[pi0*eta].subs({mu: md*(1-dI)/(1+dI)})) *pi0*eta)"
   ]
  },
  {
   "cell_type": "code",
   "execution_count": 16,
   "metadata": {},
   "outputs": [],
   "source": [
    "pi_ = sp.Symbol(r'\\tilde{\\pi}', real=True)\n",
    "eta_ = sp.Symbol(r'\\tilde{\\eta}', real=True)\n",
    "th_pieta = sp.Symbol(r'\\theta_{\\pi\\eta}', real=True)\n",
    "\n",
    "lag_pipi = (sp.simplify(extract_coefficient(lagM2, [pi0, pi0])[pi0*pi0].subs({mu: md*(1-dI)/(1+dI)})) *pi0**2).subs({pi0: pi_ + th_pieta * eta_, eta: eta_ - th_pieta * pi_}).expand().subs({pi_: pi0, eta_: eta})\n",
    "\n",
    "lag_etaeta = sp.expand(sp.simplify((sp.simplify(extract_coefficient(lagM2, [eta, eta])[eta*eta].subs({meta0**2: sol_meta0}).subs({mu: md*(1-dI)/(1+dI)})) *pi0**2).subs({ms: sol_ms_meta}).subs({pi0: pi_ + th_pieta * eta_, eta: eta_ - th_pieta * pi_}).expand().subs({pi_: pi0, eta_: eta})))"
   ]
  },
  {
   "cell_type": "code",
   "execution_count": 17,
   "metadata": {},
   "outputs": [
    {
     "data": {
      "text/latex": [
       "$\\displaystyle \\frac{\\delta_{I} \\left(m_{\\pi^0}\\right)^{2} \\left(- \\sqrt{6} \\sin{\\left(\\theta_{\\eta\\eta'} \\right)} + \\sqrt{3} \\cos{\\left(\\theta_{\\eta\\eta'} \\right)}\\right)}{3 \\left(m_{\\eta}^{2} + \\left(m_{\\pi^0}\\right)^{2}\\right)}$"
      ],
      "text/plain": [
       "\\delta_I*m_{\\pi^0}**2*(-sqrt(6)*sin(\\theta_{\\eta\\eta'}) + sqrt(3)*cos(\\theta_{\\eta\\eta'}))/(3*(m_\\eta**2 + m_{\\pi^0}**2))"
      ]
     },
     "execution_count": 17,
     "metadata": {},
     "output_type": "execute_result"
    }
   ],
   "source": [
    "sp.solve(extract_coefficient(lag_etaeta + lag_pipi + lag_etapi, [eta, pi0])[eta*pi0], th_pieta)[0]"
   ]
  },
  {
   "cell_type": "code",
   "execution_count": 18,
   "metadata": {},
   "outputs": [],
   "source": [
    "lag_etappi = sp.expand(sp.simplify(extract_coefficient(lagM2, [pi0, etap])[pi0*etap].subs({mu: md*(1-dI)/(1+dI)})) *pi0*etap)"
   ]
  },
  {
   "cell_type": "code",
   "execution_count": 19,
   "metadata": {},
   "outputs": [],
   "source": [
    "pi_ = sp.Symbol(r'\\tilde{\\pi}', real=True)\n",
    "etap_ = sp.Symbol(r'\\tilde{\\eta^\\prime}', real=True)\n",
    "th_pietap = sp.Symbol(r'\\theta_{\\pi\\eta^\\prime}', real=True)\n",
    "\n",
    "lag_pipi = (sp.simplify(extract_coefficient(lagM2, [pi0, pi0])[pi0*pi0].subs({mu: md*(1-dI)/(1+dI)})) *pi0**2).subs({pi0: pi_ + th_pietap * etap_, etap: etap_ - th_pietap * pi_}).expand().subs({pi_: pi0, etap_: etap})\n",
    "\n",
    "lag_etapetap = sp.expand(sp.simplify((sp.simplify(extract_coefficient(lagM2, [etap, etap])[etap*etap].subs({meta0**2: sol_meta0}).subs({mu: md*(1-dI)/(1+dI)})) *pi0**2).subs({ms: sol_ms_metap}).subs({pi0: pi_ + th_pietap * etap_, etap: etap_ - th_pietap * pi_}).expand().subs({pi_: pi0, etap_: etap})))\n",
    "lag_etapetap = sp.expand(sp.simplify(sp.expand_trig(lag_etapetap)))"
   ]
  },
  {
   "cell_type": "code",
   "execution_count": 20,
   "metadata": {},
   "outputs": [
    {
     "data": {
      "text/latex": [
       "$\\displaystyle \\frac{\\delta_{I} \\left(m_{\\pi^0}\\right)^{2} \\left(\\sqrt{3} \\sin{\\left(\\theta_{\\eta\\eta'} \\right)} + \\sqrt{6} \\cos{\\left(\\theta_{\\eta\\eta'} \\right)}\\right)}{3 \\left(m_{\\eta'}^{2} + \\left(m_{\\pi^0}\\right)^{2}\\right)}$"
      ],
      "text/plain": [
       "\\delta_I*m_{\\pi^0}**2*(sqrt(3)*sin(\\theta_{\\eta\\eta'}) + sqrt(6)*cos(\\theta_{\\eta\\eta'}))/(3*(m_{\\eta'}**2 + m_{\\pi^0}**2))"
      ]
     },
     "execution_count": 20,
     "metadata": {},
     "output_type": "execute_result"
    }
   ],
   "source": [
    "sp.solve(extract_coefficient(lag_etapetap + lag_pipi + lag_etappi, [etap, pi0])[etap*pi0], th_pietap)[0]"
   ]
  },
  {
   "cell_type": "code",
   "execution_count": null,
   "metadata": {},
   "outputs": [],
   "source": []
  }
 ],
 "metadata": {
  "kernelspec": {
   "display_name": ".venv",
   "language": "python",
   "name": "python3"
  },
  "language_info": {
   "codemirror_mode": {
    "name": "ipython",
    "version": 3
   },
   "file_extension": ".py",
   "mimetype": "text/x-python",
   "name": "python",
   "nbconvert_exporter": "python",
   "pygments_lexer": "ipython3",
   "version": "3.13.1"
  }
 },
 "nbformat": 4,
 "nbformat_minor": 2
}
